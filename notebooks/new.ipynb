{
 "cells": [
  {
   "cell_type": "markdown",
   "id": "5b8f9968",
   "metadata": {},
   "source": [
    "# New Notebook"
   ]
  },
  {
   "cell_type": "markdown",
   "id": "c8c364e5",
   "metadata": {},
   "source": [
    "This notebook contains the installation commands and imports we need for working in Colab.\n",
    "\n",
    "Let's start with some preliminary imports & settings. To execute a cell in a Jupyter notebook, press `Shift + Enter`. If you have to restart the notebook, please re-execute the following cell.\n",
    "\n",
    "If using Google Colab, click **Run anyway** when prompted. (If prompted again, select **Restart runtime** when the installation finishes.)"
   ]
  },
  {
   "cell_type": "code",
   "execution_count": null,
   "id": "fa326226",
   "metadata": {},
   "outputs": [],
   "source": [
    "import sys\n",
    "\n",
    "if \"google.colab\" in str(get_ipython()):\n",
    "    if \"plasmapy\" not in sys.modules:\n",
    "        !pip install plasmapy==2024.7.0 matplotlib numpy astropy\n",
    "\n",
    "from plasmapy.particles import *\n",
    "from plasmapy.formulary import *"
   ]
  },
  {
   "cell_type": "markdown",
   "id": "6e8f0d92",
   "metadata": {},
   "source": [
    "## New Content"
   ]
  },
  {
   "cell_type": "code",
   "execution_count": null,
   "id": "2df85914-16aa-4e9e-b966-4ba3ef7b6a08",
   "metadata": {},
   "outputs": [],
   "source": []
  }
 ],
 "metadata": {
  "celltoolbar": "Tags",
  "kernelspec": {
   "display_name": "Python 3 (ipykernel)",
   "language": "python",
   "name": "python3"
  },
  "language_info": {
   "codemirror_mode": {
    "name": "ipython",
    "version": 3
   },
   "file_extension": ".py",
   "mimetype": "text/x-python",
   "name": "python",
   "nbconvert_exporter": "python",
   "pygments_lexer": "ipython3",
   "version": "3.12.1"
  },
  "widgets": {
   "application/vnd.jupyter.widget-state+json": {
    "state": {},
    "version_major": 2,
    "version_minor": 0
   }
  }
 },
 "nbformat": 4,
 "nbformat_minor": 5
}
